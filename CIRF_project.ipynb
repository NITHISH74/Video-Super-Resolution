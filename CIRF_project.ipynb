{
  "cells": [
    {
      "cell_type": "code",
      "execution_count": null,
      "metadata": {
        "id": "TNty9xHWiDHI"
      },
      "outputs": [],
      "source": [
        "import cv2\n",
        "import numpy as np"
      ]
    },
    {
      "cell_type": "code",
      "execution_count": null,
      "metadata": {
        "colab": {
          "base_uri": "https://localhost:8080/"
        },
        "id": "Qtw5n468iDE_",
        "outputId": "4db93fec-091b-4d0a-8c15-fdd774688886"
      },
      "outputs": [
        {
          "output_type": "stream",
          "name": "stdout",
          "text": [
            "Model loaded successfully!\n"
          ]
        }
      ],
      "source": [
        "sr = cv2.dnn_superres.DnnSuperResImpl_create()\n",
        "\n",
        "# Load the downloaded model\n",
        "sr.readModel(\"ESPCN_x4.pb\")\n",
        "sr.setModel(\"espcn\", 4)  # Using ESPCN model with 4x upscaling\n",
        "\n",
        "print(\"Model loaded successfully!\")"
      ]
    },
    {
      "cell_type": "code",
      "execution_count": null,
      "metadata": {
        "id": "S_4AZxNeiDCt"
      },
      "outputs": [],
      "source": [
        "input_video_path = \"/content/input_video.mp4\"\n",
        "cap = cv2.VideoCapture(input_video_path)\n",
        "\n",
        "frame_width = int(cap.get(cv2.CAP_PROP_FRAME_WIDTH) * 4)  # Upscaling by 4x\n",
        "frame_height = int(cap.get(cv2.CAP_PROP_FRAME_HEIGHT) * 4)\n",
        "fps = cap.get(cv2.CAP_PROP_FPS)\n",
        "fourcc = cv2.VideoWriter_fourcc(*'mp4v')  # Codec for saving video\n",
        "\n"
      ]
    },
    {
      "cell_type": "code",
      "execution_count": null,
      "metadata": {
        "id": "STFDDSXUiC_2"
      },
      "outputs": [],
      "source": [
        "output_video_path = \"high_res_video.mp4\""
      ]
    },
    {
      "cell_type": "code",
      "execution_count": null,
      "metadata": {
        "id": "_HNf-tgFiC9f"
      },
      "outputs": [],
      "source": [
        "frame_width = int(cap.get(cv2.CAP_PROP_FRAME_WIDTH) * 4)  # Upscaling by 4x\n",
        "frame_height = int(cap.get(cv2.CAP_PROP_FRAME_HEIGHT) * 4)\n",
        "fps = cap.get(cv2.CAP_PROP_FPS)\n",
        "fourcc = cv2.VideoWriter_fourcc(*'mp4v')  # Codec for saving video"
      ]
    },
    {
      "cell_type": "code",
      "execution_count": null,
      "metadata": {
        "id": "H7rZgl8WiC7L"
      },
      "outputs": [],
      "source": [
        "out = cv2.VideoWriter(output_video_path, fourcc, fps, (frame_width, frame_height))\n"
      ]
    },
    {
      "cell_type": "code",
      "execution_count": null,
      "metadata": {
        "id": "kdBSZ9sskpqD"
      },
      "outputs": [],
      "source": [
        "while cap.isOpened():\n",
        "    ret, frame = cap.read()\n",
        "    if not ret:\n",
        "        break\n",
        "\n",
        "    # Apply Super-Resolution\n",
        "    high_res_frame = sr.upsample(frame)\n",
        "\n",
        "    # Save the frame\n",
        "    out.write(high_res_frame)\n",
        "\n",
        "    # Display the frame (optional)\n",
        "    #cv2.imshow(\"Super-Resolution Video\", high_res_frame)\n",
        "    if cv2.waitKey(1) & 0xFF == ord('q'):\n",
        "        break"
      ]
    },
    {
      "cell_type": "code",
      "execution_count": null,
      "metadata": {
        "id": "FLFT-YnDA1eH"
      },
      "outputs": [],
      "source": [
        "def apply_color_correction(frame):\n",
        "    \"\"\"Apply Histogram Equalization and White Balance\"\"\"\n",
        "    lab = cv2.cvtColor(frame, cv2.COLOR_BGR2LAB)  # Convert to LAB color space\n",
        "    l, a, b = cv2.split(lab)\n",
        "    l = cv2.equalizeHist(l)  # Equalize histogram of L channel\n",
        "    corrected = cv2.merge([l, a, b])\n",
        "    return cv2.cvtColor(corrected, cv2.COLOR_LAB2BGR)  # Convert back to BGR\n",
        "\n",
        "def reduce_noise(frame):\n",
        "    \"\"\"Apply Non-Local Means Denoising\"\"\"\n",
        "    return cv2.fastNlMeansDenoisingColored(frame, None, 10, 10, 7, 21)\n",
        "\n",
        "def enhance_sharpness(frame):\n",
        "    \"\"\"Apply Unsharp Masking for Sharpness Enhancement\"\"\"\n",
        "    blurred = cv2.GaussianBlur(frame, (0, 0), 3)\n",
        "    return cv2.addWeighted(frame, 1.5, blurred, -0.5, 0)\n",
        "\n",
        "def stabilize_frame(prev_frame, current_frame):\n",
        "    \"\"\"Optical Flow-based Frame Stabilization\"\"\"\n",
        "    if prev_frame is None:\n",
        "        return current_frame\n",
        "    prev_gray = cv2.cvtColor(prev_frame, cv2.COLOR_BGR2GRAY)\n",
        "    curr_gray = cv2.cvtColor(current_frame, cv2.COLOR_BGR2GRAY)\n",
        "    flow = cv2.calcOpticalFlowFarneback(prev_gray, curr_gray, None, 0.5, 3, 15, 3, 5, 1.2, 0)\n",
        "    h, w = flow.shape[:2]\n",
        "    flow_map = np.column_stack((np.repeat(np.arange(h), w), np.tile(np.arange(w), h))) + flow.reshape(-1, 2)\n",
        "    return cv2.remap(current_frame, flow_map[:, 1].reshape(h, w).astype(np.float32),\n",
        "                     flow_map[:, 0].reshape(h, w).astype(np.float32), cv2.INTER_LINEAR)\n",
        "\n",
        "# ------------------------ Process Video Frames ------------------------ #"
      ]
    },
    {
      "cell_type": "code",
      "execution_count": null,
      "metadata": {
        "id": "KDAgyVt4A_7A"
      },
      "outputs": [],
      "source": [
        "prev_frame = None"
      ]
    },
    {
      "cell_type": "code",
      "source": [
        "while cap.isOpened():\n",
        "    ret, frame = cap.read()\n",
        "    if not ret:\n",
        "        break\n",
        "\n",
        "    # Apply Super-Resolution\n",
        "    high_res_frame = sr.upsample(frame)\n",
        "\n",
        "    # Apply Video Enhancements\n",
        "    high_res_frame = apply_color_correction(high_res_frame)\n",
        "    high_res_frame = reduce_noise(high_res_frame)\n",
        "    high_res_frame = enhance_sharpness(high_res_frame)\n",
        "    high_res_frame = stabilize_frame(prev_frame, high_res_frame)  # Frame stabilization\n",
        "    prev_frame = high_res_frame  # Update previous frame\n",
        "\n",
        "    # Save the frame\n",
        "    out.write(high_res_frame)"
      ],
      "metadata": {
        "id": "FiSPog0CktiS"
      },
      "execution_count": null,
      "outputs": []
    },
    {
      "cell_type": "code",
      "execution_count": null,
      "metadata": {
        "colab": {
          "base_uri": "https://localhost:8080/"
        },
        "id": "oVdNEurlk0mG",
        "outputId": "e9d0488c-e7bf-4e6c-b905-2728e7870ec4"
      },
      "outputs": [
        {
          "output_type": "stream",
          "name": "stdout",
          "text": [
            "Super-resolution video processing completed with enhancements!\n"
          ]
        }
      ],
      "source": [
        "cap.release()\n",
        "out.release()\n",
        "cv2.destroyAllWindows()\n",
        "\n",
        "print(\"Super-resolution video processing completed with enhancements!\")"
      ]
    }
  ],
  "metadata": {
    "accelerator": "GPU",
    "colab": {
      "gpuType": "T4",
      "provenance": []
    },
    "kernelspec": {
      "display_name": "Python 3",
      "name": "python3"
    },
    "language_info": {
      "name": "python"
    }
  },
  "nbformat": 4,
  "nbformat_minor": 0
}